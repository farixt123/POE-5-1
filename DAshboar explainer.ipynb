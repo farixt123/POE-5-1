{
  "nbformat": 4,
  "nbformat_minor": 0,
  "metadata": {
    "colab": {
      "name": "Copia de DAshboar explainer",
      "provenance": [],
      "authorship_tag": "ABX9TyO7CKYXz7abjDmTZSi9XA5P",
      "include_colab_link": true
    },
    "kernelspec": {
      "name": "python3",
      "display_name": "Python 3"
    },
    "language_info": {
      "name": "python"
    }
  },
  "cells": [
    {
      "cell_type": "markdown",
      "metadata": {
        "id": "view-in-github",
        "colab_type": "text"
      },
      "source": [
        "<a href=\"https://colab.research.google.com/github/mleyvaz/AV/blob/master/Copia_de_DAshboar_explainer.ipynb\" target=\"_parent\"><img src=\"https://colab.research.google.com/assets/colab-badge.svg\" alt=\"Open In Colab\"/></a>"
      ]
    },
    {
      "cell_type": "code",
      "source": [
        "pip install pycaret markupsafe==2.0.1"
      ],
      "metadata": {
        "id": "mNvZzUcWGvNY"
      },
      "execution_count": null,
      "outputs": []
    },
    {
      "cell_type": "code",
      "source": [
        "import jinja2"
      ],
      "metadata": {
        "id": "tdgBHy2yI5oS"
      },
      "execution_count": null,
      "outputs": []
    },
    {
      "cell_type": "code",
      "source": [
        "# load dataset\n",
        "from pycaret.datasets import get_data\n",
        "data = get_data('iris')\n",
        "# init setup\n",
        "from pycaret.classification import *\n",
        "s = setup(data, target = 'species', session_id = 123)\n",
        "# train model\n",
        "lr = create_model('lr')\n",
        "\n"
      ],
      "metadata": {
        "id": "wo8tZO71JUYM"
      },
      "execution_count": null,
      "outputs": []
    },
    {
      "cell_type": "code",
      "source": [
        "# generate dashboard\n",
        "\n",
        "dashboard(lr)"
      ],
      "metadata": {
        "id": "TueNjgvnHRxZ"
      },
      "execution_count": null,
      "outputs": []
    }
  ]
}
